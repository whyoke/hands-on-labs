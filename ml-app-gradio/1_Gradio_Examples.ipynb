{
  "cells": [
    {
      "cell_type": "markdown",
      "metadata": {
        "id": "1b0gyWaU8Tsa"
      },
      "source": [
        "# Build your ML application with Gradio\n",
        "\n",
        "Gradio is an open-source Python package that allows you to quickly build a demo or web application for your machine learning model, API, or any arbitrary Python function.\n",
        "\n",
        "See the documentation here: [Gradio.Guide](https://www.gradio.app/guides/quickstart)"
      ]
    },
    {
      "cell_type": "code",
      "execution_count": null,
      "metadata": {
        "id": "5NIoUtTFAOj9"
      },
      "outputs": [],
      "source": [
        "# install the required packages\n",
        "!pip install gradio "
      ]
    },
    {
      "cell_type": "markdown",
      "metadata": {},
      "source": [
        "Start with simple example:\n",
        "\n",
        "**tip** Create a function that takes an input as `(person name and intensity level) and returns an output"
      ]
    },
    {
      "cell_type": "code",
      "execution_count": 4,
      "metadata": {},
      "outputs": [],
      "source": [
        "# Import libraries using in this example\n",
        "import numpy as np \n",
        "import gradio as gr "
      ]
    },
    {
      "cell_type": "markdown",
      "metadata": {},
      "source": [
        "- After lacunching the interface, you can see the interface in the output cell. shown below\n",
        "- You can enter any name and level intensity bar, then click the 'submit' button to see the output on the right side of the interface"
      ]
    },
    {
      "cell_type": "code",
      "execution_count": null,
      "metadata": {
        "id": "ILJkarqLxkDx"
      },
      "outputs": [],
      "source": [
        "def greet(name, intensity): # Define the function\n",
        "    \"\"\"\n",
        "    A simple function that greets a person with a given intensity bar.\n",
        "    \"\"\"\n",
        "    return \"Hello, \" + name + \"!\" * int(intensity) ## Return the greeting\n",
        "\n",
        "demo = gr.Interface(\n",
        "    fn=greet, # The function to be run\n",
        "    inputs=[\"text\", \"slider\"], # The input type and the slider\n",
        "    outputs=[\"text\"], # The output type\n",
        ")\n",
        "\n",
        "demo.launch() ## Launch the interface"
      ]
    },
    {
      "cell_type": "markdown",
      "metadata": {
        "id": "1bKypbUIyGmU"
      },
      "source": [
        "If you use actual classes for `gr.Textbox` and `gr.Slider` instead of the string shortcuts, you have access to much more customizability through component attributes."
      ]
    },
    {
      "cell_type": "code",
      "execution_count": null,
      "metadata": {
        "id": "SofEy7jwyDF2"
      },
      "outputs": [],
      "source": [
        "## Customizing the interface\n",
        "\n",
        "def greet(name, intensity):\n",
        "    return \"Hello, \" + name + \"!\" * intensity\n",
        "\n",
        "demo = gr.Interface(\n",
        "    fn=greet,  \n",
        "    inputs=[\"text\", gr.Slider(value=2, minimum=1, maximum=10, step=1)], # add slider with min, max, and step\n",
        "    outputs=[gr.Textbox(label=\"greeting\", lines=3)], # add number of textbox lines\n",
        ")\n",
        "\n",
        "demo.launch()"
      ]
    },
    {
      "cell_type": "markdown",
      "metadata": {},
      "source": [
        "-----------"
      ]
    },
    {
      "cell_type": "markdown",
      "metadata": {},
      "source": [
        "**Gradio** supports the Image, Video, Dataframe, Audio, Text, and File types.\n",
        "\n",
        "Here, we are trying the simple Image-to-Image filter function"
      ]
    },
    {
      "cell_type": "code",
      "execution_count": null,
      "metadata": {
        "id": "cIZ3P92Gyx92"
      },
      "outputs": [],
      "source": [
        "def filter_sepia(input_img):\n",
        "    \"\"\"\n",
        "    A simple function that applies a sepia filter to an image.\n",
        "\n",
        "        Note : sepia filter is a type of filter that gives an image a warm, brownish tone.\n",
        "\n",
        "    \"\"\"\n",
        "    sepia_filter = np.array([\n",
        "        [0.393, 0.769, 0.189],\n",
        "        [0.349, 0.686, 0.168],\n",
        "        [0.272, 0.534, 0.131]\n",
        "    ])\n",
        "\n",
        "    sepia_img = input_img.dot(sepia_filter.T) # Apply the sepia filter\n",
        "    sepia_img /= sepia_img.max() # Normalize the image\n",
        "\n",
        "    return sepia_img\n",
        "\n",
        "## add example image\n",
        "\n",
        "demo = gr.Interface(\n",
        "    filter_sepia, \n",
        "    gr.Image(), \n",
        "    \"image\",\n",
        "    examples = [\"example_image/text_image_1.png\"] # Add example image\n",
        ") # Create the interface\n",
        "\n",
        "demo.launch()"
      ]
    },
    {
      "cell_type": "markdown",
      "metadata": {
        "id": "DCLzjY-szB_6"
      },
      "source": [
        "See more examples at https://www.gradio.app/guides/the-interface-class"
      ]
    },
    {
      "cell_type": "markdown",
      "metadata": {},
      "source": [
        "**TODO** : Add more examples\n",
        "https://www.gradio.app/guides/controlling-layout"
      ]
    }
  ],
  "metadata": {
    "accelerator": "GPU",
    "colab": {
      "gpuType": "T4",
      "provenance": []
    },
    "kernelspec": {
      "display_name": "biomedparse",
      "language": "python",
      "name": "python3"
    },
    "language_info": {
      "codemirror_mode": {
        "name": "ipython",
        "version": 3
      },
      "file_extension": ".py",
      "mimetype": "text/x-python",
      "name": "python",
      "nbconvert_exporter": "python",
      "pygments_lexer": "ipython3",
      "version": "3.9.19"
    }
  },
  "nbformat": 4,
  "nbformat_minor": 0
}
